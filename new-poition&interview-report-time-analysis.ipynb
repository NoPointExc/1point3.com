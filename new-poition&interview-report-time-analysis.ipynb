{
 "cells": [
  {
   "cell_type": "code",
   "execution_count": 16,
   "metadata": {
    "collapsed": true
   },
   "outputs": [],
   "source": [
    "#read date&time from csv\n",
    "import csv\n",
    "def read_date(pth):\n",
    "    dates=[]\n",
    "    with open(pth, 'r') as f:\n",
    "        reader = csv.reader(f, delimiter=',')\n",
    "        for row in reader:\n",
    "            if(len(row[0].split('-')) != 3):\n",
    "                continue\n",
    "            #print(row[0])\n",
    "            y,m,d=row[0].split('-')\n",
    "            dates.append({'year':int(y), 'mon':int(m), 'day':int(d)})\n",
    "    return dates"
   ]
  },
  {
   "cell_type": "code",
   "execution_count": 17,
   "metadata": {
    "collapsed": true
   },
   "outputs": [],
   "source": [
    "newPos = read_date('new-position-date.csv')\n",
    "intRep = read_date('interview-report-date.csv')"
   ]
  },
  {
   "cell_type": "code",
   "execution_count": 18,
   "metadata": {
    "collapsed": true
   },
   "outputs": [],
   "source": [
    "def count(dates):\n",
    "    rst={}\n",
    "    for d in dates:\n",
    "        if d['year'] not in rst:\n",
    "            rst[d['year']]=[0]*12 \n",
    "        rst[d['year']][d['mon']-1] += 1  \n",
    "    return rst"
   ]
  },
  {
   "cell_type": "code",
   "execution_count": 19,
   "metadata": {},
   "outputs": [
    {
     "name": "stdout",
     "output_type": "stream",
     "text": [
      "{2012: [0, 0, 0, 0, 0, 0, 1, 0, 0, 0, 0, 0], 2013: [0, 0, 0, 0, 0, 1, 2, 2, 4, 3, 3, 6], 2014: [1, 7, 6, 3, 4, 1, 15, 13, 7, 2, 8, 5], 2015: [8, 9, 17, 18, 16, 8, 27, 19, 28, 32, 10, 29], 2016: [20, 26, 30, 37, 26, 32, 27, 56, 59, 38, 27, 23], 2017: [32, 48, 63, 48, 43, 12, 0, 0, 0, 0, 0, 0]}\n"
     ]
    }
   ],
   "source": [
    "posDist = count(newPos)\n",
    "print(posDist)"
   ]
  },
  {
   "cell_type": "code",
   "execution_count": 57,
   "metadata": {},
   "outputs": [],
   "source": [
    "#draw distrubtion each month\n",
    "import matplotlib.pyplot as plt\n",
    "import datetime\n",
    "\n",
    "\n",
    "def drawMonBar(dist, title=''):\n",
    "    count=[0]*12\n",
    "    for k in dist:\n",
    "        v = dist[k]\n",
    "        #ignore this year as not valid data\n",
    "        if k!=datetime.datetime.now().year:\n",
    "            count=[count[i] + v[i] for i in range(12)]  \n",
    "    bars=plt.bar(left=[i for i in range(1, 13)], height=count)\n",
    "    plt.xlabel('month', rotation='horizontal')\n",
    "    plt.ylabel('number', rotation='vertical')\n",
    "    plt.title(title)\n",
    "    plt.figure(num=None, figsize=(8, 6), dpi=500, facecolor='w', edgecolor='k')\n",
    "    plt.show()\n",
    "    "
   ]
  },
  {
   "cell_type": "code",
   "execution_count": 58,
   "metadata": {},
   "outputs": [
    {
     "data": {
      "image/png": "[encoded data removed]",
      "text/plain": [
       "<matplotlib.figure.Figure at 0x7f7bddd967b8>"
      ]
     },
     "metadata": {},
     "output_type": "display_data"
    },
    {
     "data": {
      "text/plain": [
       "<matplotlib.figure.Figure at 0x7f7c0926fd30>"
      ]
     },
     "metadata": {},
     "output_type": "display_data"
    }
   ],
   "source": [
    "posDist = count(newPos)\n",
    "drawMonBar(posDist, 'new post positiones in each month(2012~2016)')\n",
    "#"
   ]
  },
  {
   "cell_type": "code",
   "execution_count": 9,
   "metadata": {},
   "outputs": [
    {
     "data": {
      "text/plain": [
       "[4, 4, 4]"
      ]
     },
     "execution_count": 9,
     "metadata": {},
     "output_type": "execute_result"
    }
   ],
   "source": [
    "import datetime\n",
    "datetime.datetime.now().year==2017\n",
    "arr1=[1,2,3]\n",
    "arr2=[3,2,1]\n",
    "arr1=[arr1[i] + arr2[i] for i in range(3)]\n",
    "arr1"
   ]
  },
  {
   "cell_type": "code",
   "execution_count": 61,
   "metadata": {},
   "outputs": [
    {
     "data": {
      "image/png": "[encoded data removed]",
      "text/plain": [
       "<matplotlib.figure.Figure at 0x7f7bddc81ac8>"
      ]
     },
     "metadata": {},
     "output_type": "display_data"
    },
    {
     "data": {
      "text/plain": [
       "<matplotlib.figure.Figure at 0x7f7bddae3518>"
      ]
     },
     "metadata": {},
     "output_type": "display_data"
    }
   ],
   "source": [
    "intDist = count(intRep)\n",
    "drawMonBar(intDist, 'reported interview in each month(2009~2016)')"
   ]
  },
  {
   "cell_type": "code",
   "execution_count": null,
   "metadata": {
    "collapsed": true
   },
   "outputs": [],
   "source": []
  }
 ],
 "metadata": {
  "kernelspec": {
   "display_name": "Python 3",
   "language": "python",
   "name": "python3"
  },
  "language_info": {
   "codemirror_mode": {
    "name": "ipython",
    "version": 3
   },
   "file_extension": ".py",
   "mimetype": "text/x-python",
   "name": "python",
   "nbconvert_exporter": "python",
   "pygments_lexer": "ipython3",
   "version": "3.6.1"
  }
 },
 "nbformat": 4,
 "nbformat_minor": 2
}
